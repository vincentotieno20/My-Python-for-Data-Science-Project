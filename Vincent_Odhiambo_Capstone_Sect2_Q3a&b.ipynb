{
 "cells": [
  {
   "cell_type": "markdown",
   "id": "5682fca6-5671-41d2-8e58-df2b3a2cd8db",
   "metadata": {},
   "source": [
    "#### Section 2 ( 3a & b )"
   ]
  },
  {
   "cell_type": "markdown",
   "id": "ea4c837d-4908-496e-b352-2ea78643605f",
   "metadata": {},
   "source": [
    "#### 3.a. Create a program 'SIM Services' with the following options :\n",
    "studtel services\n",
    "\n",
    "studtel money\n",
    "\n",
    "language"
   ]
  },
  {
   "cell_type": "markdown",
   "id": "89fa20a0-5dd1-4a72-a18e-474768e062af",
   "metadata": {},
   "source": [
    "####  b. The above program in 2a should display the following menu upon selection of 'studtelmoney' option :\n",
    "buy airtime\n",
    "\n",
    "send money\n",
    "\n",
    "make payments\n",
    "\n",
    "withdraw money\n",
    "\n",
    "bank\n",
    "\n",
    "my account"
   ]
  },
  {
   "cell_type": "code",
   "execution_count": null,
   "id": "e3c00915-a681-41bc-970e-619fad05170f",
   "metadata": {},
   "outputs": [
    {
     "name": "stdout",
     "output_type": "stream",
     "text": [
      "Welcome to SIM Services!\n",
      "1. studtel services\n",
      "2. studtel money\n",
      "3. language\n"
     ]
    },
    {
     "name": "stdin",
     "output_type": "stream",
     "text": [
      "Enter your choice (1/2/3):  2\n"
     ]
    },
    {
     "name": "stdout",
     "output_type": "stream",
     "text": [
      "You selected 'studtel money'.\n",
      "Money Services Menu:\n",
      "1. Buy airtime\n",
      "2. Send money\n",
      "3. Make payments\n",
      "4. Withdraw money\n",
      "5. Bank\n",
      "6. My account\n"
     ]
    }
   ],
   "source": [
    "def display_menu():\n",
    "    print(\"Welcome to SIM Services!\")\n",
    "    print(\"1. studtel services\")\n",
    "    print(\"2. studtel money\")\n",
    "    print(\"3. language\")\n",
    "\n",
    "def display_money_menu():\n",
    "    print(\"Money Services Menu:\")\n",
    "    print(\"1. Buy airtime\")\n",
    "    print(\"2. Send money\")\n",
    "    print(\"3. Make payments\")\n",
    "    print(\"4. Withdraw money\")\n",
    "    print(\"5. Bank\")\n",
    "    print(\"6. My account\")\n",
    "\n",
    "\n",
    "while True:\n",
    "    display_menu()\n",
    "    choice = input(\"Enter your choice (1/2/3): \")\n",
    "\n",
    "    if choice == '1':\n",
    "        print(\"You selected 'studtel services'.\")\n",
    "       \n",
    "    elif choice == '2':\n",
    "        print(\"You selected 'studtel money'.\")\n",
    "        display_money_menu()\n",
    "        money_choice = input(\"Enter your choice (1-6): \")\n",
    "      \n",
    "    elif choice == '3':\n",
    "        print(\"You selected 'language'.\")\n",
    "        \n",
    "    else:\n",
    "        print(\"Invalid choice. Please select a valid option.\")"
   ]
  },
  {
   "cell_type": "code",
   "execution_count": null,
   "id": "ceadb69d-9893-4fc3-ac3b-fe3aa37c4296",
   "metadata": {},
   "outputs": [],
   "source": []
  }
 ],
 "metadata": {
  "kernelspec": {
   "display_name": "Python 3 (ipykernel)",
   "language": "python",
   "name": "python3"
  },
  "language_info": {
   "codemirror_mode": {
    "name": "ipython",
    "version": 3
   },
   "file_extension": ".py",
   "mimetype": "text/x-python",
   "name": "python",
   "nbconvert_exporter": "python",
   "pygments_lexer": "ipython3",
   "version": "3.11.7"
  }
 },
 "nbformat": 4,
 "nbformat_minor": 5
}
